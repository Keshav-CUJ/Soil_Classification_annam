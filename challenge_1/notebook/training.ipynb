{
 "cells": [
  {
   "cell_type": "code",
   "execution_count": null,
   "id": "b49ea768",
   "metadata": {},
   "outputs": [
    {
     "name": "stderr",
     "output_type": "stream",
     "text": [
      "c:\\Users\\bkesh\\miniconda3\\envs\\tf\\lib\\site-packages\\tqdm\\auto.py:21: TqdmWarning: IProgress not found. Please update jupyter and ipywidgets. See https://ipywidgets.readthedocs.io/en/stable/user_install.html\n",
      "  from .autonotebook import tqdm as notebook_tqdm\n",
      "c:\\Users\\bkesh\\miniconda3\\envs\\tf\\lib\\site-packages\\timm\\models\\vision_transformer.py:93: UserWarning: 1Torch was not compiled with flash attention. (Triggered internally at C:\\actions-runner\\_work\\pytorch\\pytorch\\builder\\windows\\pytorch\\aten\\src\\ATen\\native\\transformers\\cuda\\sdp_utils.cpp:555.)\n",
      "  x = F.scaled_dot_product_attention(\n"
     ]
    },
    {
     "name": "stdout",
     "output_type": "stream",
     "text": [
      "Epoch 1/20, Loss: 0.2870\n",
      "Epoch 2/20, Loss: 0.0655\n",
      "Epoch 3/20, Loss: 0.0344\n",
      "Epoch 4/20, Loss: 0.0327\n",
      "Epoch 5/20, Loss: 0.0832\n",
      "Epoch 6/20, Loss: 0.0241\n",
      "Epoch 7/20, Loss: 0.0140\n",
      "Epoch 8/20, Loss: 0.0162\n",
      "Epoch 9/20, Loss: 0.0077\n",
      "Epoch 10/20, Loss: 0.0071\n",
      "Epoch 11/20, Loss: 0.0128\n",
      "Epoch 12/20, Loss: 0.0066\n",
      "Epoch 13/20, Loss: 0.0028\n",
      "Epoch 14/20, Loss: 0.0023\n",
      "Epoch 15/20, Loss: 0.0015\n",
      "Epoch 16/20, Loss: 0.0009\n",
      "Epoch 17/20, Loss: 0.0002\n",
      "Epoch 18/20, Loss: 0.0001\n",
      "Epoch 19/20, Loss: 0.0001\n",
      "Epoch 20/20, Loss: 0.0000\n",
      "Training complete.\n",
      "               precision    recall  f1-score   support\n",
      "\n",
      "Alluvial soil       0.99      0.97      0.98       108\n",
      "   Black Soil       0.98      0.99      0.99       114\n",
      "    Clay soil       0.99      1.00      1.00       113\n",
      "     Red soil       1.00      1.00      1.00       103\n",
      "\n",
      "     accuracy                           0.99       438\n",
      "    macro avg       0.99      0.99      0.99       438\n",
      " weighted avg       0.99      0.99      0.99       438\n",
      "\n"
     ]
    }
   ],
   "source": [
    "import timm\n",
    "import torch\n",
    "import torch.nn as nn\n",
    "import torchvision.transforms as transforms\n",
    "from torchvision.datasets import ImageFolder\n",
    "from torch.utils.data import DataLoader\n",
    "from sklearn.metrics import classification_report\n",
    "import matplotlib.pyplot as plt\n",
    "\n",
    "# ======== Config ========\n",
    "img_size = 224\n",
    "batch_size = 32\n",
    "num_classes = 4\n",
    "device = 'cuda' if torch.cuda.is_available() else 'cpu'\n",
    "\n",
    "# ======== Transformations ========\n",
    "transform = transforms.Compose([\n",
    "    # transforms.Resize((img_size, img_size)),\n",
    "    transforms.ToTensor(),\n",
    "    transforms.Normalize([0.5]*3, [0.5]*3)\n",
    "])\n",
    "\n",
    "# ======== Dataset & Dataloader ========\n",
    "dataset = ImageFolder(\"../data/data/Aug_for_train\", transform=transform)\n",
    "train_size = int(0.8 * len(dataset))\n",
    "val_size = len(dataset) - train_size\n",
    "train_ds, val_ds = torch.utils.data.random_split(dataset, [train_size, val_size])\n",
    "train_loader = DataLoader(train_ds, batch_size=batch_size, shuffle=True)\n",
    "val_loader = DataLoader(val_ds, batch_size=batch_size)\n",
    "\n",
    "# ======== ViT Model (timm pretrained) ========\n",
    "model = timm.create_model('vit_base_patch16_224', pretrained=True, num_classes=num_classes)\n",
    "model = model.to(device)\n",
    "\n",
    "# ======== Loss & Optimizer ========\n",
    "criterion = nn.CrossEntropyLoss()\n",
    "optimizer = torch.optim.Adam(model.parameters(), lr=3e-5)\n",
    "\n",
    "# ======== Training Loop ========\n",
    "def train_model(epochs=20):\n",
    "    for epoch in range(epochs):\n",
    "        model.train()\n",
    "        running_loss = 0\n",
    "        for images, labels in train_loader:\n",
    "            images, labels = images.to(device), labels.to(device)\n",
    "            optimizer.zero_grad()\n",
    "            outputs = model(images)\n",
    "            loss = criterion(outputs, labels)\n",
    "            loss.backward()\n",
    "            optimizer.step()\n",
    "            running_loss += loss.item()\n",
    "        print(f\"Epoch {epoch+1}/{epochs}, Loss: {running_loss/len(train_loader):.4f}\")\n",
    "    print(\"Training complete.\")\n",
    "\n",
    "# ======== Evaluation Function ========\n",
    "def evaluate_model():\n",
    "    model.eval()\n",
    "    all_preds = []\n",
    "    all_labels = []\n",
    "    with torch.no_grad():\n",
    "        for images, labels in val_loader:\n",
    "            images = images.to(device)\n",
    "            outputs = model(images)\n",
    "            preds = torch.argmax(outputs, dim=1).cpu().numpy()\n",
    "            all_preds.extend(preds)\n",
    "            all_labels.extend(labels.numpy())\n",
    "    print(classification_report(all_labels, all_preds, target_names=dataset.classes))\n",
    "\n",
    "# ======== Run ========\n",
    "train_model(epochs=20)\n",
    "evaluate_model()\n"
   ]
  },
  {
   "cell_type": "code",
   "execution_count": null,
   "id": "42effb60",
   "metadata": {},
   "outputs": [
    {
     "name": "stdout",
     "output_type": "stream",
     "text": [
      "✅ Model weights saved.\n"
     ]
    }
   ],
   "source": [
    "# Save only the model weights (recommended)\n",
    "torch.save(model.state_dict(), \"../trained_model/vit_soil_classifier_weights_after_aug_20epoch.pth\")\n",
    "print(\"✅ Model weights saved.\")\n"
   ]
  }
 ],
 "metadata": {
  "kernelspec": {
   "display_name": "python 3.9 (tf)",
   "language": "python",
   "name": "tf"
  },
  "language_info": {
   "codemirror_mode": {
    "name": "ipython",
    "version": 3
   },
   "file_extension": ".py",
   "mimetype": "text/x-python",
   "name": "python",
   "nbconvert_exporter": "python",
   "pygments_lexer": "ipython3",
   "version": "3.9.19"
  }
 },
 "nbformat": 4,
 "nbformat_minor": 5
}
